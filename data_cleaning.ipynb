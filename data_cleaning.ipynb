{
 "cells": [
  {
   "cell_type": "code",
   "execution_count": 1,
   "metadata": {},
   "outputs": [],
   "source": [
    "import pandas as pd\n",
    "\n",
    "# import the dataframes; df1 is with the Player/Team/Pos data, df2 is with the actual data\n",
    "df1 = pd.read_csv(\"uscho-pivot-stats (1).csv\")\n",
    "df2 = pd.read_csv(\"uscho-pivot-stats.csv\")\n",
    "\n",
    "df1_drop = [\"GP\", \"SHOT ATTEMPTS\", \"G\", \"A\", \"PTS\", \"PPG\", \"GWG\", \"SHG\", \"ENG\", \"BLOCKS\"]\n",
    "df1 = df1.drop(df1_drop, axis = 1)\n",
    "\n",
    "merged_df = pd.merge(df1, df2, on = \"PLAYER\", how = \"inner\")\n",
    "merged_df_column_order = [\"PLAYER\", \"Team\", \"Pos\", \"GP\", \"G\", \"A\", \"PTS\", \"PPG\", \"GWG\", \"SHG\", \"ENG\", \"SHOT ON NET\", \"TOTAL FACEOFF\", \"FACEOFF WINS\", \"PLSMNS\", \"Opponent Score\", \"PEN MIN\", \"BLOCKS\"]\n",
    "merged_df = merged_df[merged_df_column_order]\n",
    "\n",
    "merged_df.to_csv('uscho-pivot-stats-final.csv')"
   ]
  }
 ],
 "metadata": {
  "kernelspec": {
   "display_name": "base",
   "language": "python",
   "name": "python3"
  },
  "language_info": {
   "codemirror_mode": {
    "name": "ipython",
    "version": 3
   },
   "file_extension": ".py",
   "mimetype": "text/x-python",
   "name": "python",
   "nbconvert_exporter": "python",
   "pygments_lexer": "ipython3",
   "version": "3.12.4"
  }
 },
 "nbformat": 4,
 "nbformat_minor": 2
}
